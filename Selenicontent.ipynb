{
  "nbformat": 4,
  "nbformat_minor": 0,
  "metadata": {
    "colab": {
      "provenance": []
    },
    "kernelspec": {
      "name": "python3",
      "display_name": "Python 3"
    },
    "language_info": {
      "name": "python"
    }
  },
  "cells": [
    {
      "cell_type": "code",
      "execution_count": null,
      "metadata": {
        "id": "xo1Dky2lZ5Zk"
      },
      "outputs": [],
      "source": [
        "!wget -q -O - https://dl.google.com/linux/linux_signing_key.pub | apt-key add -\n",
        "!echo \"deb [arch=amd64] http://dl.google.com/linux/chrome/deb/ stable main\" > /etc/apt/sources.list.d/google-chrome.list\n",
        "!apt-get update\n",
        "!apt-get install -y google-chrome-stable\n"
      ]
    },
    {
      "cell_type": "code",
      "source": [
        "!google-chrome --version\n"
      ],
      "metadata": {
        "colab": {
          "base_uri": "https://localhost:8080/"
        },
        "id": "sIX_DKjTakcC",
        "outputId": "ca13900b-b0e1-4283-e0d9-f82af12c663c"
      },
      "execution_count": null,
      "outputs": [
        {
          "output_type": "stream",
          "name": "stdout",
          "text": [
            "Google Chrome 138.0.7204.92 \n"
          ]
        }
      ]
    },
    {
      "cell_type": "markdown",
      "source": [
        "Replace \"138.0.7204.92\" with whateever Chrome version your using."
      ],
      "metadata": {
        "id": "pbKOF7YqSLEA"
      }
    },
    {
      "cell_type": "code",
      "source": [
        "!wget https://storage.googleapis.com/chrome-for-testing-public/138.0.7204.92/linux64/chromedriver-linux64.zip\n",
        "!unzip chromedriver-linux64.zip\n",
        "!mv chromedriver-linux64/chromedriver /usr/local/bin/\n",
        "!chmod +x /usr/local/bin/chromedriver\n"
      ],
      "metadata": {
        "id": "SKxEwtQkbD1R"
      },
      "execution_count": null,
      "outputs": []
    },
    {
      "cell_type": "code",
      "source": [
        "!pip install selenium\n"
      ],
      "metadata": {
        "id": "iKk4_jVjb89c"
      },
      "execution_count": null,
      "outputs": []
    },
    {
      "cell_type": "code",
      "source": [
        "import csv\n",
        "import time\n",
        "import os\n",
        "from selenium import webdriver\n",
        "from selenium.webdriver.chrome.service import Service\n",
        "from selenium.webdriver.chrome.options import Options\n",
        "from selenium.common.exceptions import NoSuchElementException\n",
        "\n",
        "# Set up Chrome options\n",
        "options = Options()\n",
        "options.add_argument('--headless')\n",
        "options.add_argument('--no-sandbox')\n",
        "options.add_argument('--disable-dev-shm-usage')\n",
        "\n",
        "# Set up WebDriver\n",
        "driver = webdriver.Chrome(service=Service('/usr/local/bin/chromedriver'), options=options)\n",
        "\n",
        "# File paths\n",
        "input_file = \"technology_article_links.txt\"\n",
        "output_file = \"blogdata.csv\"\n",
        "progress_file = \"progress.txt\"\n",
        "\n",
        "# XPaths\n",
        "xpaths = {\n",
        "    \"title\": \"/html/body/div[1]/div[6]/div/div/div[1]/div[1]/h1\",\n",
        "    \"featured_image\": \"/html/body/div[1]/div[6]/div/div/div[2]/div/a\",\n",
        "    \"content\": \"/html/body/div[1]/div[6]/div/div/div[3]/article/div[1]\",\n",
        "    \"tags_parent\": \"/html/body/div[1]/div[6]/div/div/div[3]/article/div[2]\"\n",
        "}\n",
        "\n",
        "# Read URLs\n",
        "with open(input_file, \"r\") as f:\n",
        "    urls = [line.strip() for line in f if line.strip()]\n",
        "\n",
        "# Load progress if it exists\n",
        "start_index = 0\n",
        "if os.path.exists(progress_file):\n",
        "    with open(progress_file, \"r\") as pf:\n",
        "        try:\n",
        "            start_index = int(pf.read().strip())\n",
        "            print(f\"🔁 Resuming from index {start_index}\")\n",
        "        except:\n",
        "            start_index = 0\n",
        "\n",
        "# Open CSV and append or create header if needed\n",
        "file_exists = os.path.exists(output_file)\n",
        "with open(output_file, \"a\", newline='', encoding='utf-8') as csvfile:\n",
        "    writer = csv.writer(csvfile)\n",
        "    if not file_exists:\n",
        "        writer.writerow([\"title\", \"featuredimage\", \"content\", \"tags\", \"author\", \"blogurl\"])\n",
        "\n",
        "    for i, url in enumerate(urls[start_index:], start=start_index):\n",
        "        print(f\"[{i+1}/{len(urls)}] Visiting: {url}\")\n",
        "        try:\n",
        "            driver.get(url)\n",
        "            time.sleep(2)\n",
        "\n",
        "            try:\n",
        "                title = driver.find_element(\"xpath\", xpaths[\"title\"]).text\n",
        "                print(\"  ✓ Title found\")\n",
        "            except NoSuchElementException:\n",
        "                title = \"N/A\"\n",
        "                print(\"  ✗ Title not found\")\n",
        "\n",
        "            try:\n",
        "                image_href = driver.find_element(\"xpath\", xpaths[\"featured_image\"]).get_attribute(\"href\")\n",
        "                print(\"  ✓ Featured image found\")\n",
        "            except NoSuchElementException:\n",
        "                image_href = \"N/A\"\n",
        "                print(\"  ✗ Featured image not found\")\n",
        "\n",
        "            try:\n",
        "                content = driver.find_element(\"xpath\", xpaths[\"content\"]).text\n",
        "                print(\"  ✓ Content found\")\n",
        "            except NoSuchElementException:\n",
        "                content = \"N/A\"\n",
        "                print(\"  ✗ Content not found\")\n",
        "\n",
        "            try:\n",
        "                tag_parent = driver.find_element(\"xpath\", xpaths[\"tags_parent\"])\n",
        "                tag_elements = tag_parent.find_elements(\"tag name\", \"a\")\n",
        "                tags = \", \".join([tag.text for tag in tag_elements]) if tag_elements else \"N/A\"\n",
        "                print(f\"  ✓ {len(tag_elements)} tag(s) found\")\n",
        "            except NoSuchElementException:\n",
        "                tags = \"N/A\"\n",
        "                print(\"  ✗ Tags not found\")\n",
        "\n",
        "            # Static values\n",
        "            author = \"KahawaTungu\"\n",
        "            blogurl = url\n",
        "\n",
        "            # Write to CSV\n",
        "            writer.writerow([title, image_href, content, tags, author, blogurl])\n",
        "            csvfile.flush()\n",
        "            print(\"  → Row saved to CSV\")\n",
        "\n",
        "        except Exception as e:\n",
        "            print(f\"  ⚠️ Failed to process {url}: {e}\")\n",
        "            writer.writerow([\"Error\", \"Error\", \"Error\", \"Error\", \"Error\", url])\n",
        "            csvfile.flush()\n",
        "\n",
        "        # Save progress\n",
        "        with open(progress_file, \"w\") as pf:\n",
        "            pf.write(str(i + 1))\n",
        "\n",
        "        print()\n",
        "\n",
        "driver.quit()\n",
        "print(f\"\\n✅ Done. Data saved to {output_file}\")\n"
      ],
      "metadata": {
        "id": "m37Ejn9ScjpO"
      },
      "execution_count": null,
      "outputs": []
    }
  ]
}