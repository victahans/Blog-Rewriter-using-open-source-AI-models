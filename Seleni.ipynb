{
  "nbformat": 4,
  "nbformat_minor": 0,
  "metadata": {
    "colab": {
      "provenance": []
    },
    "kernelspec": {
      "name": "python3",
      "display_name": "Python 3"
    },
    "language_info": {
      "name": "python"
    }
  },
  "cells": [
    {
      "cell_type": "markdown",
      "metadata": {
        "id": "d5ecc622"
      },
      "source": [
        "## Setup\n",
        "\n",
        "### Subtask:\n",
        "Install the selenium and webdriver-manager libraries.\n"
      ]
    },
    {
      "cell_type": "code",
      "source": [
        "from google.colab import drive\n",
        "drive.mount('/content/drive')"
      ],
      "metadata": {
        "colab": {
          "base_uri": "https://localhost:8080/"
        },
        "id": "85HKz07VM_tR",
        "outputId": "ba53e76e-bd18-490a-fb79-10204ebf9122"
      },
      "execution_count": null,
      "outputs": [
        {
          "output_type": "stream",
          "name": "stdout",
          "text": [
            "Mounted at /content/drive\n"
          ]
        }
      ]
    },
    {
      "cell_type": "markdown",
      "metadata": {
        "id": "aea56bf2"
      },
      "source": [
        "**Reasoning**:\n",
        "The subtask requires installing the `selenium` and `webdriver-manager` libraries. I will use pip to install both libraries in one code block.\n",
        "\n"
      ]
    },
    {
      "cell_type": "code",
      "metadata": {
        "id": "d9ce0ba8"
      },
      "source": [
        "%pip install selenium webdriver-manager"
      ],
      "execution_count": null,
      "outputs": []
    },
    {
      "cell_type": "markdown",
      "metadata": {
        "id": "c715058c"
      },
      "source": [
        "## Setup chromedriver\n",
        "\n",
        "### Subtask:\n",
        "Set up chromedriver using webdriver-manager.\n"
      ]
    },
    {
      "cell_type": "markdown",
      "metadata": {
        "id": "ac0e6b8e"
      },
      "source": [
        "**Reasoning**:\n",
        "The subtask requires setting up chromedriver using webdriver-manager, which involves importing `ChromeDriverManager`, instantiating it, and calling the `install()` method.\n",
        "\n"
      ]
    },
    {
      "cell_type": "code",
      "metadata": {
        "id": "5b0ffb65"
      },
      "source": [
        "from webdriver_manager.chrome import ChromeDriverManager\n",
        "\n",
        "driver_path = ChromeDriverManager().install()"
      ],
      "execution_count": null,
      "outputs": []
    },
    {
      "cell_type": "markdown",
      "metadata": {
        "id": "4e679c26"
      },
      "source": [
        "## Scrape website\n",
        "\n",
        "### Subtask:\n",
        "Write a selenium script to navigate to the specified URL using chromedriver.\n"
      ]
    },
    {
      "cell_type": "markdown",
      "metadata": {
        "id": "a298ba6c"
      },
      "source": [
        "**Reasoning**:\n",
        "Write a selenium script to navigate to the specified URL using chromedriver, including importing webdriver, setting up ChromeOptions for headless mode, instantiating the driver, navigating to the URL, printing the title, and closing the driver.\n",
        "\n"
      ]
    },
    {
      "cell_type": "code",
      "metadata": {
        "id": "c4f53ace"
      },
      "source": [
        "from selenium import webdriver\n",
        "\n",
        "options = webdriver.ChromeOptions()\n",
        "options.add_argument('--headless')\n",
        "\n",
        "driver = webdriver.Chrome(executable_path=driver_path, options=options)\n",
        "\n",
        "driver.get(\"https://yourblog.com/category/technology/\")\n",
        "\n",
        "print(driver.title)\n",
        "\n",
        "driver.quit()"
      ],
      "execution_count": null,
      "outputs": []
    },
    {
      "cell_type": "markdown",
      "metadata": {
        "id": "472fbdff"
      },
      "source": [
        "**Reasoning**:\n",
        "The traceback indicates that the `webdriver.Chrome` constructor no longer accepts the `executable_path` argument. The correct way to specify the driver path is by using the `service` argument with a `Service` object.\n",
        "\n"
      ]
    },
    {
      "cell_type": "code",
      "metadata": {
        "id": "QpP92iPfZ-OO"
      },
      "source": [
        "from selenium import webdriver\n",
        "from selenium.webdriver.chrome.service import Service\n",
        "\n",
        "options = webdriver.ChromeOptions()\n",
        "options.add_argument('--headless')\n",
        "\n",
        "service = Service(executable_path=driver_path)\n",
        "driver = webdriver.Chrome(service=service, options=options)\n",
        "\n",
        "driver.get(\"https://yourblog.com/category/technology/\")\n",
        "\n",
        "print(driver.title)\n",
        "\n",
        "driver.quit()"
      ],
      "execution_count": null,
      "outputs": []
    },
    {
      "cell_type": "markdown",
      "metadata": {
        "id": "bcd99fd4"
      },
      "source": [
        "**Reasoning**:\n",
        "The error message \"unknown error: cannot find Chrome binary\" indicates that the system where the code is running does not have a Chrome browser installed or accessible at a standard location. Since we are running in a headless environment (like a cloud notebook), we need to install Chrome.\n",
        "\n"
      ]
    },
    {
      "cell_type": "code",
      "metadata": {
        "id": "lBNc_QrKZ_4H"
      },
      "source": [
        "# Install headless Chrome\n",
        "!apt-get update\n",
        "!apt-get install -y google-chrome-stable\n",
        "\n",
        "from selenium import webdriver\n",
        "from selenium.webdriver.chrome.service import Service\n",
        "\n",
        "options = webdriver.ChromeOptions()\n",
        "options.add_argument('--headless')\n",
        "options.add_argument('--no-sandbox')\n",
        "options.add_argument('--disable-dev-shm-usage')\n",
        "\n",
        "service = Service(executable_path=driver_path)\n",
        "driver = webdriver.Chrome(service=service, options=options)\n",
        "\n",
        "driver.get(\"https://yourblog.com/category/technology/\")\n",
        "\n",
        "print(driver.title)\n",
        "\n",
        "driver.quit()"
      ],
      "execution_count": null,
      "outputs": []
    },
    {
      "cell_type": "markdown",
      "metadata": {
        "id": "c50cb0fa"
      },
      "source": [
        "**Reasoning**:\n",
        "The previous attempt to install `google-chrome-stable` failed with \"E: Unable to locate package google-chrome-stable\". This indicates that the package name or repository might be incorrect or not available in this environment. I will try installing `chromium-browser` instead, which is often available in similar environments and can also be used for headless browsing.\n",
        "\n"
      ]
    },
    {
      "cell_type": "code",
      "metadata": {
        "id": "reEvt0nVaDOp"
      },
      "source": [
        "# Install chromium-browser as an alternative\n",
        "!apt-get update\n",
        "!apt-get install -y chromium-browser\n",
        "\n",
        "from selenium import webdriver\n",
        "from selenium.webdriver.chrome.service import Service\n",
        "from selenium.webdriver.chrome.options import Options\n",
        "\n",
        "options = Options()\n",
        "options.add_argument('--headless')\n",
        "options.add_argument('--no-sandbox')\n",
        "options.add_argument('--disable-dev-shm-usage')\n",
        "\n",
        "# Specify the binary location for chromium-browser\n",
        "options.binary_location = '/usr/bin/chromium-browser'\n",
        "\n",
        "service = Service(executable_path=driver_path)\n",
        "driver = webdriver.Chrome(service=service, options=options)\n",
        "\n",
        "driver.get(\"https://yourblog.com/category/technology/\")\n",
        "\n",
        "print(driver.title)\n",
        "\n",
        "driver.quit()"
      ],
      "execution_count": null,
      "outputs": []
    },
    {
      "cell_type": "markdown",
      "metadata": {
        "id": "b3b8c5f4"
      },
      "source": [
        "**Reasoning**:\n",
        "The error message \"Chrome failed to start: exited abnormally. (unknown error: DevToolsActivePort file doesn't exist)\" suggests an issue with ChromeDriver communicating with the browser. This can sometimes be resolved by ensuring the Chrome binary is found correctly and by adding additional arguments to the Chrome options to improve compatibility in headless environments. Although I installed `chromium-browser`, the error still refers to Chrome, implying ChromeDriver is looking for a Chrome binary. I will try explicitly setting the `binary_location` in the options again, ensuring the path is correct for the installed `chromium-browser`. I will also add the `--remote-debugging-port=9222` argument as suggested by some online resources for headless Chrome issues, although the port number might not be strictly necessary.\n",
        "\n"
      ]
    },
    {
      "cell_type": "code",
      "metadata": {
        "id": "qwq7XmjTaJyB"
      },
      "source": [
        "from selenium.webdriver.chrome.service import Service\n",
        "from selenium.webdriver.chrome.options import Options\n",
        "\n",
        "options = Options()\n",
        "options.add_argument('--headless')\n",
        "options.add_argument('--no-sandbox')\n",
        "options.add_argument('--disable-dev-shm-usage')\n",
        "options.add_argument('--remote-debugging-port=9222')\n",
        "\n",
        "\n",
        "# Explicitly set the binary location for chromium-browser\n",
        "options.binary_location = '/usr/bin/chromium-browser'\n",
        "\n",
        "\n",
        "service = Service(executable_path=driver_path)\n",
        "driver = webdriver.Chrome(service=service, options=options)\n",
        "\n",
        "driver.get(\"https://yourblog.com/category/technology/\")\n",
        "\n",
        "print(driver.title)\n",
        "\n",
        "driver.quit()"
      ],
      "execution_count": null,
      "outputs": []
    },
    {
      "cell_type": "markdown",
      "metadata": {
        "id": "218ace3b"
      },
      "source": [
        "## Scrape website\n",
        "\n",
        "### Subtask:\n",
        "Write a selenium script to navigate to the specified URL using chromedriver.\n"
      ]
    },
    {
      "cell_type": "markdown",
      "metadata": {
        "id": "e84d2060"
      },
      "source": [
        "**Reasoning**:\n",
        "Based on the previous attempts, the issue is likely related to the environment not having a readily available and compatible Chrome or Chromium browser binary that chromedriver can interact with. To address this, I will try setting the binary location again, ensuring it points to the correct path for chromium-browser. I will also keep the headless options as the task requires navigating to the URL.\n",
        "\n"
      ]
    },
    {
      "cell_type": "code",
      "metadata": {
        "id": "cb74a979"
      },
      "source": [
        "from selenium import webdriver\n",
        "from selenium.webdriver.chrome.service import Service\n",
        "from selenium.webdriver.chrome.options import Options\n",
        "\n",
        "options = Options()\n",
        "options.add_argument('--headless')\n",
        "options.add_argument('--no-sandbox')\n",
        "options.add_argument('--disable-dev-shm-usage')\n",
        "options.add_argument('--remote-debugging-port=9222')\n",
        "\n",
        "# Set the binary location for chromium-browser\n",
        "options.binary_location = '/usr/bin/chromium-browser'\n",
        "\n",
        "service = Service(executable_path=driver_path)\n",
        "driver = webdriver.Chrome(service=service, options=options)\n",
        "\n",
        "driver.get(\"https://yourblog.com/category/technology/\")\n",
        "\n",
        "print(driver.title)\n",
        "\n",
        "driver.quit()"
      ],
      "execution_count": null,
      "outputs": []
    },
    {
      "cell_type": "markdown",
      "metadata": {
        "id": "554b5d7e"
      },
      "source": [
        "## Summary:\n",
        "\n",
        "### Data Analysis Key Findings\n",
        "\n",
        "* The initial attempts to use `executable_path` directly in `webdriver.Chrome` instantiation failed because this argument is deprecated.\n",
        "* Using the `Service` object with `executable_path` resolved the deprecation error but led to a `WebDriverException` indicating that the system could not find a Chrome binary.\n",
        "* Attempts to install `google-chrome-stable` via `apt-get` failed due to the package not being found.\n",
        "* Installing and specifying the path to `chromium-browser` resolved the \"cannot find Chrome binary\" error but resulted in a new `WebDriverException` indicating that Chrome failed to start and was not reachable.\n",
        "* Adding more Chrome options like `--remote-debugging-port=9222` did not resolve the issue of Chrome failing to start and connect.\n",
        "* The persistent failure to launch and connect to a browser instance was the primary reason the task could not be completed successfully.\n",
        "\n",
        "### Insights or Next Steps\n",
        "\n",
        "* The environment lacks a readily available and compatible browser binary that Selenium can reliably launch and connect to.\n",
        "* Further steps would require resolving the environmental issue by ensuring a compatible Chrome or Chromium browser is installed and accessible in a way that Chromedriver can successfully interact with it.\n"
      ]
    },
    {
      "cell_type": "code",
      "source": [
        "!LATEST=$(curl -sSL https://chromedriver.storage.googleapis.com/LATEST_RELEASE)"
      ],
      "metadata": {
        "id": "lgb63sQbdE9I"
      },
      "execution_count": null,
      "outputs": []
    },
    {
      "cell_type": "code",
      "source": [
        "!wget -q -O - https://dl.google.com/linux/linux_signing_key.pub | apt-key add -\n",
        "!sh -c 'echo \"deb [arch=amd64] http://dl.google.com/linux/chrome/deb/ stable main\" > /etc/apt/sources.list.d/google-chrome.list'\n",
        "!apt-get update\n",
        "!apt-get install -y google-chrome-stable\n"
      ],
      "metadata": {
        "id": "2IfZWV8jeMUh"
      },
      "execution_count": null,
      "outputs": []
    },
    {
      "cell_type": "code",
      "source": [
        "# Download correct version of ChromeDriver for Chrome 138\n",
        "!wget https://storage.googleapis.com/chrome-for-testing-public/138.0.7204.49/linux64/chromedriver-linux64.zip\n",
        "\n",
        "# Unzip it to current directory\n",
        "!unzip chromedriver-linux64.zip\n",
        "\n",
        "# Move chromedriver binary to /usr/local/bin\n",
        "!mv chromedriver-linux64/chromedriver /usr/local/bin/\n",
        "\n",
        "# Make it executable\n",
        "!chmod +x /usr/local/bin/chromedriver\n"
      ],
      "metadata": {
        "id": "-OpI0FKBhHyZ"
      },
      "execution_count": null,
      "outputs": []
    },
    {
      "cell_type": "code",
      "source": [
        "from selenium import webdriver\n",
        "from selenium.webdriver.chrome.service import Service\n",
        "from selenium.webdriver.chrome.options import Options\n",
        "from selenium.webdriver.common.by import By\n",
        "from selenium.common.exceptions import NoSuchElementException\n",
        "import time\n",
        "\n",
        "options = Options()\n",
        "options.add_argument('--headless')\n",
        "options.add_argument('--no-sandbox')\n",
        "options.add_argument('--disable-dev-shm-usage')\n",
        "\n",
        "driver = webdriver.Chrome(service=Service('/usr/local/bin/chromedriver'), options=options)\n",
        "\n",
        "base_url = \"https://yourblog.com/category/technology/\"\n",
        "all_links = []\n",
        "\n",
        "try:\n",
        "    for page in range(1, 51):  # Pages 1 to 50\n",
        "        url = base_url if page == 1 else f\"{base_url}page/{page}/\"\n",
        "        print(f\"Fetching page {page}: {url}\")\n",
        "        driver.get(url)\n",
        "        time.sleep(2)  # Give time for page to load\n",
        "\n",
        "        try:\n",
        "            section = driver.find_element(By.XPATH, \"/html/body/div[1]/div[6]/div/div/section/div/div\")\n",
        "            articles = section.find_elements(By.TAG_NAME, \"article\")\n",
        "            for article in articles:\n",
        "                try:\n",
        "                    a_tag = article.find_element(By.XPATH, \".//div[1]/a\")\n",
        "                    href = a_tag.get_attribute(\"href\")\n",
        "                    print(f\"Found link: {href}\")\n",
        "                    all_links.append(href)\n",
        "                except NoSuchElementException:\n",
        "                    continue\n",
        "        except NoSuchElementException:\n",
        "            print(f\"Main content section not found on page {page}, skipping.\")\n",
        "\n",
        "except Exception as e:\n",
        "    print(\"Error occurred:\", e)\n",
        "\n",
        "finally:\n",
        "    driver.quit()\n",
        "\n",
        "# Save to file\n",
        "with open(\"technology_article_links.txt\", \"w\", encoding=\"utf-8\") as f:\n",
        "    for link in all_links:\n",
        "        f.write(link + \"\\n\")\n",
        "\n",
        "print(f\"Total links collected: {len(all_links)}\")\n"
      ],
      "metadata": {
        "id": "YhKBbfeFe-rb"
      },
      "execution_count": null,
      "outputs": []
    },
    {
      "cell_type": "code",
      "source": [
        "import csv\n",
        "import time\n",
        "from selenium import webdriver\n",
        "from selenium.webdriver.chrome.service import Service\n",
        "from selenium.webdriver.chrome.options import Options\n",
        "from selenium.common.exceptions import NoSuchElementException\n",
        "\n",
        "# Set up Chrome options\n",
        "options = Options()\n",
        "options.add_argument('--headless')\n",
        "options.add_argument('--no-sandbox')\n",
        "options.add_argument('--disable-dev-shm-usage')\n",
        "\n",
        "# Set up WebDriver\n",
        "driver = webdriver.Chrome(service=Service('/usr/local/bin/chromedriver'), options=options)\n",
        "\n",
        "# Input and output files\n",
        "input_file = \"technology_article_links.txt\"\n",
        "output_file = \"blogdata.csv\"\n",
        "\n",
        "# XPaths\n",
        "xpaths = {\n",
        "    \"title\": \"/html/body/div[1]/div[6]/div/div/div[1]/div[1]/h1\",\n",
        "    \"featured_image\": \"/html/body/div[1]/div[6]/div/div/div[2]/div/a\",\n",
        "    \"content\": \"/html/body/div[1]/div[6]/div/div/div[3]/article/div[1]\"\n",
        "}\n",
        "\n",
        "# Read URLs\n",
        "with open(input_file, \"r\") as f:\n",
        "    urls = [line.strip() for line in f if line.strip()]\n",
        "\n",
        "# Open CSV file\n",
        "with open(output_file, \"w\", newline='', encoding='utf-8') as csvfile:\n",
        "    writer = csv.writer(csvfile)\n",
        "    writer.writerow([\"Title\", \"Featured Image\", \"Content\"])\n",
        "\n",
        "    for url in urls:\n",
        "        print(f\"Processing: {url}\")\n",
        "        try:\n",
        "            driver.get(url)\n",
        "            time.sleep(2)  # wait for content to load\n",
        "\n",
        "            # Extract elements\n",
        "            try:\n",
        "                title = driver.find_element(\"xpath\", xpaths[\"title\"]).text\n",
        "            except NoSuchElementException:\n",
        "                title = \"N/A\"\n",
        "\n",
        "            try:\n",
        "                image_href = driver.find_element(\"xpath\", xpaths[\"featured_image\"]).get_attribute(\"href\")\n",
        "            except NoSuchElementException:\n",
        "                image_href = \"N/A\"\n",
        "\n",
        "            try:\n",
        "                content = driver.find_element(\"xpath\", xpaths[\"content\"]).text\n",
        "            except NoSuchElementException:\n",
        "                content = \"N/A\"\n",
        "\n",
        "            # Write to CSV\n",
        "            writer.writerow([title, image_href, content])\n",
        "\n",
        "        except Exception as e:\n",
        "            print(f\"Failed on {url}: {e}\")\n",
        "            writer.writerow([\"Error\", \"Error\", \"Error\"])\n",
        "\n",
        "driver.quit()\n",
        "print(f\"Done. Results saved to {output_file}\")\n"
      ],
      "metadata": {
        "id": "mDiJZQipqtQi"
      },
      "execution_count": null,
      "outputs": []
    }
  ]
}